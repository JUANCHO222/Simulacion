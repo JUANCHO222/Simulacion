{
 "cells": [
  {
   "cell_type": "markdown",
   "id": "013286ab",
   "metadata": {},
   "source": [
    "## Regresión Lineal: Costo de un Incidente de Seguridad"
   ]
  },
  {
   "cell_type": "markdown",
   "id": "5defd9f1",
   "metadata": {},
   "source": [
    "En este ejercicio se explican los fundamentos básicos de la regresión lineal aplicada a un caso de uso sencillo relacionado con la Ciberseguridad."
   ]
  },
  {
   "cell_type": "markdown",
   "id": "9fd9aa5e",
   "metadata": {},
   "source": [
    "### Enunciado del ejercicio"
   ]
  },
  {
   "cell_type": "markdown",
   "id": "4ea2b7d8",
   "metadata": {},
   "source": [
    "El ejercicio consiste en predecir el costo de un incidente de seguridad en base al número de equipos que se han visto afectados. El conjunto de datos es generado de manera aleatoria."
   ]
  },
  {
   "cell_type": "markdown",
   "id": "97338baa",
   "metadata": {},
   "source": [
    "#### 1.-Generación del conjunto de datos"
   ]
  },
  {
   "cell_type": "code",
   "execution_count": 3,
   "id": "62f074e7",
   "metadata": {},
   "outputs": [
    {
     "name": "stdout",
     "output_type": "stream",
     "text": [
      "La longitud del conjunto de datos es:  100\n"
     ]
    }
   ],
   "source": [
    "import numpy as np\n",
    "\n",
    "X = 2 * np.random.rand(100, 1)\n",
    "Y = 4 + 3 * X + np.random.randn(100, 1)\n",
    "print(\"La longitud del conjunto de datos es: \", len(X))"
   ]
  },
  {
   "cell_type": "markdown",
   "id": "628afbfa",
   "metadata": {},
   "source": [
    "#### 2.-Visualización del conjunto de datos"
   ]
  },
  {
   "cell_type": "code",
   "execution_count": 4,
   "id": "97d8f95d",
   "metadata": {},
   "outputs": [],
   "source": [
    "import matplotlib.pyplot as plt\n",
    "%matplotlib inline"
   ]
  },
  {
   "cell_type": "code",
   "execution_count": 5,
   "id": "ad82d062",
   "metadata": {},
   "outputs": [
    {
     "data": {
      "image/png": "[encoded data removed]",
      "text/plain": [
       "<Figure size 432x288 with 1 Axes>"
      ]
     },
     "metadata": {
      "needs_background": "light"
     },
     "output_type": "display_data"
    }
   ],
   "source": [
    "plt.plot(X, Y, \"b.\")\n",
    "plt.show()"
   ]
  },
  {
   "cell_type": "code",
   "execution_count": 18,
   "id": "f0b04dcb",
   "metadata": {},
   "outputs": [
    {
     "data": {
      "image/png": "[encoded data removed]",
      "text/plain": [
       "<Figure size 432x288 with 1 Axes>"
      ]
     },
     "metadata": {
      "needs_background": "light"
     },
     "output_type": "display_data"
    }
   ],
   "source": [
    "plt.plot(X, Y, \"b.\")\n",
    "plt.xlabel(\"Equipos afectados (u/1,000)\")\n",
    "plt.ylabel(\"Costos del incidente (u/10,000)\")\n",
    "plt.show()"
   ]
  },
  {
   "cell_type": "markdown",
   "id": "b2acfbd4",
   "metadata": {},
   "source": [
    "### 3.-Modificación del conjunto de datos"
   ]
  },
  {
   "cell_type": "code",
   "execution_count": 7,
   "id": "dca2b58d",
   "metadata": {},
   "outputs": [],
   "source": [
    "import pandas as pd"
   ]
  },
  {
   "cell_type": "code",
   "execution_count": 9,
   "id": "32e6f6c5",
   "metadata": {},
   "outputs": [
    {
     "data": {
      "text/html": [
       "<div>\n",
       "<style scoped>\n",
       "    .dataframe tbody tr th:only-of-type {\n",
       "        vertical-align: middle;\n",
       "    }\n",
       "\n",
       "    .dataframe tbody tr th {\n",
       "        vertical-align: top;\n",
       "    }\n",
       "\n",
       "    .dataframe thead th {\n",
       "        text-align: right;\n",
       "    }\n",
       "</style>\n",
       "<table border=\"1\" class=\"dataframe\">\n",
       "  <thead>\n",
       "    <tr style=\"text-align: right;\">\n",
       "      <th></th>\n",
       "      <th>No_Equipos_Afectados</th>\n",
       "      <th>Costo</th>\n",
       "    </tr>\n",
       "  </thead>\n",
       "  <tbody>\n",
       "    <tr>\n",
       "      <th>0</th>\n",
       "      <td>0.735432</td>\n",
       "      <td>5.794533</td>\n",
       "    </tr>\n",
       "    <tr>\n",
       "      <th>1</th>\n",
       "      <td>1.747230</td>\n",
       "      <td>11.256581</td>\n",
       "    </tr>\n",
       "    <tr>\n",
       "      <th>2</th>\n",
       "      <td>1.571083</td>\n",
       "      <td>9.832845</td>\n",
       "    </tr>\n",
       "    <tr>\n",
       "      <th>3</th>\n",
       "      <td>0.772511</td>\n",
       "      <td>5.072764</td>\n",
       "    </tr>\n",
       "    <tr>\n",
       "      <th>4</th>\n",
       "      <td>0.013962</td>\n",
       "      <td>4.119058</td>\n",
       "    </tr>\n",
       "    <tr>\n",
       "      <th>5</th>\n",
       "      <td>1.753742</td>\n",
       "      <td>9.098785</td>\n",
       "    </tr>\n",
       "    <tr>\n",
       "      <th>6</th>\n",
       "      <td>0.121469</td>\n",
       "      <td>4.649929</td>\n",
       "    </tr>\n",
       "    <tr>\n",
       "      <th>7</th>\n",
       "      <td>0.153240</td>\n",
       "      <td>3.672225</td>\n",
       "    </tr>\n",
       "    <tr>\n",
       "      <th>8</th>\n",
       "      <td>1.860545</td>\n",
       "      <td>9.272847</td>\n",
       "    </tr>\n",
       "    <tr>\n",
       "      <th>9</th>\n",
       "      <td>0.145642</td>\n",
       "      <td>3.489242</td>\n",
       "    </tr>\n",
       "    <tr>\n",
       "      <th>10</th>\n",
       "      <td>1.581264</td>\n",
       "      <td>6.919794</td>\n",
       "    </tr>\n",
       "    <tr>\n",
       "      <th>11</th>\n",
       "      <td>0.846019</td>\n",
       "      <td>7.932585</td>\n",
       "    </tr>\n",
       "    <tr>\n",
       "      <th>12</th>\n",
       "      <td>0.520581</td>\n",
       "      <td>4.243660</td>\n",
       "    </tr>\n",
       "    <tr>\n",
       "      <th>13</th>\n",
       "      <td>0.892191</td>\n",
       "      <td>7.437274</td>\n",
       "    </tr>\n",
       "    <tr>\n",
       "      <th>14</th>\n",
       "      <td>1.948544</td>\n",
       "      <td>10.052175</td>\n",
       "    </tr>\n",
       "    <tr>\n",
       "      <th>15</th>\n",
       "      <td>1.522778</td>\n",
       "      <td>8.684423</td>\n",
       "    </tr>\n",
       "    <tr>\n",
       "      <th>16</th>\n",
       "      <td>1.287798</td>\n",
       "      <td>8.651879</td>\n",
       "    </tr>\n",
       "    <tr>\n",
       "      <th>17</th>\n",
       "      <td>1.465235</td>\n",
       "      <td>9.620684</td>\n",
       "    </tr>\n",
       "    <tr>\n",
       "      <th>18</th>\n",
       "      <td>1.894489</td>\n",
       "      <td>8.613628</td>\n",
       "    </tr>\n",
       "    <tr>\n",
       "      <th>19</th>\n",
       "      <td>0.481090</td>\n",
       "      <td>4.382848</td>\n",
       "    </tr>\n",
       "  </tbody>\n",
       "</table>\n",
       "</div>"
      ],
      "text/plain": [
       "    No_Equipos_Afectados      Costo\n",
       "0               0.735432   5.794533\n",
       "1               1.747230  11.256581\n",
       "2               1.571083   9.832845\n",
       "3               0.772511   5.072764\n",
       "4               0.013962   4.119058\n",
       "5               1.753742   9.098785\n",
       "6               0.121469   4.649929\n",
       "7               0.153240   3.672225\n",
       "8               1.860545   9.272847\n",
       "9               0.145642   3.489242\n",
       "10              1.581264   6.919794\n",
       "11              0.846019   7.932585\n",
       "12              0.520581   4.243660\n",
       "13              0.892191   7.437274\n",
       "14              1.948544  10.052175\n",
       "15              1.522778   8.684423\n",
       "16              1.287798   8.651879\n",
       "17              1.465235   9.620684\n",
       "18              1.894489   8.613628\n",
       "19              0.481090   4.382848"
      ]
     },
     "execution_count": 9,
     "metadata": {},
     "output_type": "execute_result"
    }
   ],
   "source": [
    "data = {'No_Equipos_Afectados' : X.flatten(), 'Costo' : Y.flatten()}\n",
    "df = pd.DataFrame(data)\n",
    "df.head(20)"
   ]
  },
  {
   "cell_type": "code",
   "execution_count": 10,
   "id": "902775f9",
   "metadata": {},
   "outputs": [
    {
     "data": {
      "text/html": [
       "<div>\n",
       "<style scoped>\n",
       "    .dataframe tbody tr th:only-of-type {\n",
       "        vertical-align: middle;\n",
       "    }\n",
       "\n",
       "    .dataframe tbody tr th {\n",
       "        vertical-align: top;\n",
       "    }\n",
       "\n",
       "    .dataframe thead th {\n",
       "        text-align: right;\n",
       "    }\n",
       "</style>\n",
       "<table border=\"1\" class=\"dataframe\">\n",
       "  <thead>\n",
       "    <tr style=\"text-align: right;\">\n",
       "      <th></th>\n",
       "      <th>No_Equipos_Afectados</th>\n",
       "      <th>Costo</th>\n",
       "    </tr>\n",
       "  </thead>\n",
       "  <tbody>\n",
       "    <tr>\n",
       "      <th>0</th>\n",
       "      <td>735</td>\n",
       "      <td>57945</td>\n",
       "    </tr>\n",
       "    <tr>\n",
       "      <th>1</th>\n",
       "      <td>1747</td>\n",
       "      <td>112565</td>\n",
       "    </tr>\n",
       "    <tr>\n",
       "      <th>2</th>\n",
       "      <td>1571</td>\n",
       "      <td>98328</td>\n",
       "    </tr>\n",
       "    <tr>\n",
       "      <th>3</th>\n",
       "      <td>772</td>\n",
       "      <td>50727</td>\n",
       "    </tr>\n",
       "    <tr>\n",
       "      <th>4</th>\n",
       "      <td>13</td>\n",
       "      <td>41190</td>\n",
       "    </tr>\n",
       "    <tr>\n",
       "      <th>5</th>\n",
       "      <td>1753</td>\n",
       "      <td>90987</td>\n",
       "    </tr>\n",
       "    <tr>\n",
       "      <th>6</th>\n",
       "      <td>121</td>\n",
       "      <td>46499</td>\n",
       "    </tr>\n",
       "    <tr>\n",
       "      <th>7</th>\n",
       "      <td>153</td>\n",
       "      <td>36722</td>\n",
       "    </tr>\n",
       "    <tr>\n",
       "      <th>8</th>\n",
       "      <td>1860</td>\n",
       "      <td>92728</td>\n",
       "    </tr>\n",
       "    <tr>\n",
       "      <th>9</th>\n",
       "      <td>145</td>\n",
       "      <td>34892</td>\n",
       "    </tr>\n",
       "  </tbody>\n",
       "</table>\n",
       "</div>"
      ],
      "text/plain": [
       "   No_Equipos_Afectados   Costo\n",
       "0                   735   57945\n",
       "1                  1747  112565\n",
       "2                  1571   98328\n",
       "3                   772   50727\n",
       "4                    13   41190\n",
       "5                  1753   90987\n",
       "6                   121   46499\n",
       "7                   153   36722\n",
       "8                  1860   92728\n",
       "9                   145   34892"
      ]
     },
     "execution_count": 10,
     "metadata": {},
     "output_type": "execute_result"
    }
   ],
   "source": [
    "# Escalado del número de equipos afectados\n",
    "df[\"No_Equipos_Afectados\"] = df[\"No_Equipos_Afectados\"] * 1000\n",
    "df[\"No_Equipos_Afectados\"] = df[\"No_Equipos_Afectados\"].astype('int')\n",
    "# Escalado del costo\n",
    "df[\"Costo\"] = df[\"Costo\"] * 10000\n",
    "df[\"Costo\"] = df[\"Costo\"].astype('int')\n",
    "df.head(10)"
   ]
  },
  {
   "cell_type": "code",
   "execution_count": 11,
   "id": "2768f51c",
   "metadata": {},
   "outputs": [
    {
     "data": {
      "image/png": "[encoded data removed]",
      "text/plain": [
       "<Figure size 432x288 with 1 Axes>"
      ]
     },
     "metadata": {
      "needs_background": "light"
     },
     "output_type": "display_data"
    }
   ],
   "source": [
    "# Representación gráfica del conjunto de datos\n",
    "plt.plot(df[\"No_Equipos_Afectados\"], df[\"Costo\"], \"b.\")\n",
    "plt.xlabel(\"Equipos Afectados\")\n",
    "plt.ylabel(\"Costo del incidente\")\n",
    "plt.show()"
   ]
  },
  {
   "cell_type": "markdown",
   "id": "423b21a5",
   "metadata": {},
   "source": [
    "### 4.-Construcción del Modelo"
   ]
  },
  {
   "cell_type": "code",
   "execution_count": 13,
   "id": "e724e0e3",
   "metadata": {},
   "outputs": [],
   "source": [
    "from sklearn.linear_model import LinearRegression"
   ]
  },
  {
   "cell_type": "code",
   "execution_count": 15,
   "id": "e8f5e4c5",
   "metadata": {},
   "outputs": [
    {
     "data": {
      "text/plain": [
       "LinearRegression()"
      ]
     },
     "execution_count": 15,
     "metadata": {},
     "output_type": "execute_result"
    }
   ],
   "source": [
    "# Construcción del modelo y ajuste de hipotesis\n",
    "lin_reg = LinearRegression()\n",
    "lin_reg.fit(df[\"No_Equipos_Afectados\"].values.reshape(-1, 1), df['Costo'].values)"
   ]
  },
  {
   "cell_type": "code",
   "execution_count": 19,
   "id": "9e5267ef",
   "metadata": {},
   "outputs": [
    {
     "data": {
      "text/plain": [
       "38907.29072237572"
      ]
     },
     "execution_count": 19,
     "metadata": {},
     "output_type": "execute_result"
    }
   ],
   "source": [
    "# Parámetro Theta 0\n",
    "lin_reg.intercept_"
   ]
  },
  {
   "cell_type": "code",
   "execution_count": 20,
   "id": "8ee2c000",
   "metadata": {},
   "outputs": [
    {
     "data": {
      "text/plain": [
       "array([31.69593751])"
      ]
     },
     "execution_count": 20,
     "metadata": {},
     "output_type": "execute_result"
    }
   ],
   "source": [
    "# Parámetro Theta 1\n",
    "lin_reg.coef_"
   ]
  },
  {
   "cell_type": "code",
   "execution_count": 21,
   "id": "13d66b3f",
   "metadata": {},
   "outputs": [],
   "source": [
    "# Predicción para el valor mínimo y Máximo de datos de entrenamiento\n",
    "X_min_max = np.array([[df[\"No_Equipos_Afectados\"].min()], [df[\"No_Equipos_Afectados\"].max()]])\n",
    "Y_train_pred = lin_reg.predict(X_min_max)"
   ]
  },
  {
   "cell_type": "code",
   "execution_count": 23,
   "id": "824aa8e5",
   "metadata": {},
   "outputs": [
    {
     "data": {
      "image/png": "[encoded data removed]",
      "text/plain": [
       "<Figure size 432x288 with 1 Axes>"
      ]
     },
     "metadata": {
      "needs_background": "light"
     },
     "output_type": "display_data"
    }
   ],
   "source": [
    "# Representación gráfica de la función de Hipótesis generada\n",
    "plt.plot(X_min_max, Y_train_pred, \"g-\")\n",
    "plt.plot(df[\"No_Equipos_Afectados\"], df[\"Costo\"], \"b.\")\n",
    "plt.xlabel(\"Equipos Afectados\")\n",
    "plt.ylabel(\"Costo del incidente\")\n",
    "plt.show()"
   ]
  },
  {
   "cell_type": "markdown",
   "id": "6f30fb6c",
   "metadata": {},
   "source": [
    "### 5.-Predicción de nuevos ejemplos"
   ]
  },
  {
   "cell_type": "code",
   "execution_count": 28,
   "id": "f222de7b",
   "metadata": {},
   "outputs": [
    {
     "name": "stdout",
     "output_type": "stream",
     "text": [
      "El costo del incidente sería: $ 118147\n"
     ]
    }
   ],
   "source": [
    "x_new = np.array([[2500]]) # 1300 equipos afectados\n",
    "\n",
    "#La predicción del costo que tendría el incidente\n",
    "costo = lin_reg.predict(x_new)\n",
    "\n",
    "print(\"El costo del incidente sería: $\", int(costo[0]))\n"
   ]
  },
  {
   "cell_type": "code",
   "execution_count": 29,
   "id": "1e7d74c7",
   "metadata": {},
   "outputs": [
    {
     "data": {
      "image/png": "[encoded data removed]",
      "text/plain": [
       "<Figure size 432x288 with 1 Axes>"
      ]
     },
     "metadata": {
      "needs_background": "light"
     },
     "output_type": "display_data"
    }
   ],
   "source": [
    "plt.plot(df[\"No_Equipos_Afectados\"], df[\"Costo\"], \"b.\")\n",
    "plt.plot(X_min_max, Y_train_pred, \"g-\")\n",
    "plt.plot(x_new, costo, \"rx\")\n",
    "plt.xlabel(\"Equipos Afectados\")\n",
    "plt.ylabel(\"Costo del incidente\")\n",
    "plt.show()"
   ]
  },
  {
   "cell_type": "code",
   "execution_count": null,
   "id": "041ea651",
   "metadata": {},
   "outputs": [],
   "source": []
  }
 ],
 "metadata": {
  "kernelspec": {
   "display_name": "Python 3 (ipykernel)",
   "language": "python",
   "name": "python3"
  },
  "language_info": {
   "codemirror_mode": {
    "name": "ipython",
    "version": 3
   },
   "file_extension": ".py",
   "mimetype": "text/x-python",
   "name": "python",
   "nbconvert_exporter": "python",
   "pygments_lexer": "ipython3",
   "version": "3.9.15"
  }
 },
 "nbformat": 4,
 "nbformat_minor": 5
}
